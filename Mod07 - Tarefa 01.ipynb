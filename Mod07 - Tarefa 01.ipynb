{
 "cells": [
  {
   "cell_type": "markdown",
   "metadata": {},
   "source": [
    "# Módulo 07, Tarefa 01\n",
    "\n",
    "Vamos começar a mexer na nossa base de projeto? Já fizemos um exercício de montar a variável resposta, já pudemos perceber que essa atividade pode não ser trivial. Vamos agora trabalhar a base para que fique propícia ao *scikitlearn* para trabalharmos.\n",
    "\n",
    "Lembrando, a base se chama demo01.csv, e originalmente está publicada [aqui](https://www.kaggle.com/rikdifos/credit-card-approval-prediction)."
   ]
  },
  {
   "cell_type": "markdown",
   "metadata": {},
   "source": [
    "#### 1) Carregue a base e avalie:\n",
    "\n",
    "- As variáveis\n",
    "- Tipos de dados de cada variável\n",
    "- Quantidade de missings\n",
    "- Distribuição da variável resposta (mau)"
   ]
  },
  {
   "cell_type": "code",
   "execution_count": 1,
   "metadata": {},
   "outputs": [
    {
     "data": {
      "text/plain": [
       "(16650, 16)"
      ]
     },
     "execution_count": 1,
     "metadata": {},
     "output_type": "execute_result"
    }
   ],
   "source": [
    "import numpy as np\n",
    "import pandas as pd\n",
    "import seaborn as sns\n",
    "demo = pd.read_csv('demo01.csv')\n",
    "demo.shape"
   ]
  },
  {
   "cell_type": "code",
   "execution_count": 2,
   "metadata": {},
   "outputs": [
    {
     "name": "stdout",
     "output_type": "stream",
     "text": [
      "<class 'pandas.core.frame.DataFrame'>\n",
      "RangeIndex: 16650 entries, 0 to 16649\n",
      "Data columns (total 16 columns):\n",
      " #   Column                 Non-Null Count  Dtype  \n",
      "---  ------                 --------------  -----  \n",
      " 0   sexo                   16650 non-null  object \n",
      " 1   posse_de_veiculo       16650 non-null  object \n",
      " 2   posse_de_imovel        16650 non-null  object \n",
      " 3   qtd_filhos             16650 non-null  int64  \n",
      " 4   tipo_renda             16650 non-null  object \n",
      " 5   educacao               16650 non-null  object \n",
      " 6   estado_civil           16650 non-null  object \n",
      " 7   tipo_residencia        16650 non-null  object \n",
      " 8   idade                  16650 non-null  float64\n",
      " 9   tempo_emprego          16650 non-null  float64\n",
      " 10  possui_celular         16650 non-null  int64  \n",
      " 11  possui_fone_comercial  16650 non-null  int64  \n",
      " 12  possui_fone            16650 non-null  int64  \n",
      " 13  possui_email           16650 non-null  int64  \n",
      " 14  qt_pessoas_residencia  16650 non-null  float64\n",
      " 15  mau                    16650 non-null  bool   \n",
      "dtypes: bool(1), float64(3), int64(5), object(7)\n",
      "memory usage: 1.9+ MB\n",
      "False    16260\n",
      "True       390\n",
      "Name: mau, dtype: int64\n"
     ]
    },
    {
     "data": {
      "text/plain": [
       "False    97.657658\n",
       "True      2.342342\n",
       "Name: mau, dtype: float64"
      ]
     },
     "execution_count": 2,
     "metadata": {},
     "output_type": "execute_result"
    }
   ],
   "source": [
    "demo.info()\n",
    "mau = demo['mau']\n",
    "contagem = mau.value_counts()\n",
    "print(contagem)\n",
    "porcentagem_mau = mau.value_counts(normalize=True)*100\n",
    "porcentagem_mau"
   ]
  },
  {
   "cell_type": "markdown",
   "metadata": {},
   "source": [
    "#### 2) Vamos montar um metadados\n",
    "\n",
    "1. Crie um dataframe com os nomes de cada variável e o tipo de dados de cada variável.\n",
    "2. Adicione uma coluna nesse *dataframe* chamada \"qtd_categorias\" e coloque nela o número de categorias correspondente de cada variável. \n",
    "    Dica: \n",
    "        1. inicie uma lista vazia\n",
    "        2. faça um for ao longo dos nomes das variáveis, \n",
    "        3. conte o número de categorias dessa variável \n",
    "        4. acumule essa informação de 3. na lista que você criou em 1. \n",
    "        5. No final, essa lista pode ser atribuída à nossa variável.\n",
    "3. Crie variáveis dummy para as variáveis necessárias (i.e. aquelas que são qualitativas e não estão armazenadas como {0, 1} ou {True, False}."
   ]
  },
  {
   "cell_type": "code",
   "execution_count": 6,
   "metadata": {},
   "outputs": [
    {
     "data": {
      "text/html": [
       "<div>\n",
       "<style scoped>\n",
       "    .dataframe tbody tr th:only-of-type {\n",
       "        vertical-align: middle;\n",
       "    }\n",
       "\n",
       "    .dataframe tbody tr th {\n",
       "        vertical-align: top;\n",
       "    }\n",
       "\n",
       "    .dataframe thead th {\n",
       "        text-align: right;\n",
       "    }\n",
       "</style>\n",
       "<table border=\"1\" class=\"dataframe\">\n",
       "  <thead>\n",
       "    <tr style=\"text-align: right;\">\n",
       "      <th></th>\n",
       "      <th>Tipo</th>\n",
       "    </tr>\n",
       "  </thead>\n",
       "  <tbody>\n",
       "    <tr>\n",
       "      <th>sexo</th>\n",
       "      <td>object</td>\n",
       "    </tr>\n",
       "    <tr>\n",
       "      <th>posse_de_veiculo</th>\n",
       "      <td>object</td>\n",
       "    </tr>\n",
       "    <tr>\n",
       "      <th>posse_de_imovel</th>\n",
       "      <td>object</td>\n",
       "    </tr>\n",
       "    <tr>\n",
       "      <th>qtd_filhos</th>\n",
       "      <td>int64</td>\n",
       "    </tr>\n",
       "    <tr>\n",
       "      <th>tipo_renda</th>\n",
       "      <td>object</td>\n",
       "    </tr>\n",
       "    <tr>\n",
       "      <th>educacao</th>\n",
       "      <td>object</td>\n",
       "    </tr>\n",
       "    <tr>\n",
       "      <th>estado_civil</th>\n",
       "      <td>object</td>\n",
       "    </tr>\n",
       "    <tr>\n",
       "      <th>tipo_residencia</th>\n",
       "      <td>object</td>\n",
       "    </tr>\n",
       "    <tr>\n",
       "      <th>idade</th>\n",
       "      <td>float64</td>\n",
       "    </tr>\n",
       "    <tr>\n",
       "      <th>tempo_emprego</th>\n",
       "      <td>float64</td>\n",
       "    </tr>\n",
       "    <tr>\n",
       "      <th>possui_celular</th>\n",
       "      <td>int64</td>\n",
       "    </tr>\n",
       "    <tr>\n",
       "      <th>possui_fone_comercial</th>\n",
       "      <td>int64</td>\n",
       "    </tr>\n",
       "    <tr>\n",
       "      <th>possui_fone</th>\n",
       "      <td>int64</td>\n",
       "    </tr>\n",
       "    <tr>\n",
       "      <th>possui_email</th>\n",
       "      <td>int64</td>\n",
       "    </tr>\n",
       "    <tr>\n",
       "      <th>qt_pessoas_residencia</th>\n",
       "      <td>float64</td>\n",
       "    </tr>\n",
       "    <tr>\n",
       "      <th>mau</th>\n",
       "      <td>bool</td>\n",
       "    </tr>\n",
       "  </tbody>\n",
       "</table>\n",
       "</div>"
      ],
      "text/plain": [
       "                          Tipo\n",
       "sexo                    object\n",
       "posse_de_veiculo        object\n",
       "posse_de_imovel         object\n",
       "qtd_filhos               int64\n",
       "tipo_renda              object\n",
       "educacao                object\n",
       "estado_civil            object\n",
       "tipo_residencia         object\n",
       "idade                  float64\n",
       "tempo_emprego          float64\n",
       "possui_celular           int64\n",
       "possui_fone_comercial    int64\n",
       "possui_fone              int64\n",
       "possui_email             int64\n",
       "qt_pessoas_residencia  float64\n",
       "mau                       bool"
      ]
     },
     "execution_count": 6,
     "metadata": {},
     "output_type": "execute_result"
    }
   ],
   "source": [
    "df = demo.dtypes\n",
    "novo = pd.DataFrame(df)\n",
    "novo.columns=['Tipo']\n",
    "novo"
   ]
  },
  {
   "cell_type": "code",
   "execution_count": 7,
   "metadata": {},
   "outputs": [
    {
     "name": "stdout",
     "output_type": "stream",
     "text": [
      "Tipo\n"
     ]
    }
   ],
   "source": [
    "lista = []\n",
    "for i in novo:\n",
    "   "
   ]
  },
  {
   "cell_type": "markdown",
   "metadata": {},
   "source": [
    "#### 3) Crie variáveis dummy para as variáveis necessárias (i.e. aquelas que são qualitativas e não estão armazenadas como {0, 1} ou {True, False}. Crie um *dataframe* apenas com as variáveis apropriadas para entrada no scikitlearn - elimine as variáveis tipo *str*, mantendo apenas suas versões *dummy*."
   ]
  },
  {
   "cell_type": "code",
   "execution_count": null,
   "metadata": {},
   "outputs": [],
   "source": []
  },
  {
   "cell_type": "markdown",
   "metadata": {},
   "source": [
    "#### 4) Qual variável é mais poderosa?\n",
    "\n",
    "Considere as variáveis ```possui_email``` e ```posse_de_veiculo```. Faça uma tabela cruzada entre elas e responda qual delas te parece mais poderosa para prever a probabilidade de ```mau = 1```?"
   ]
  },
  {
   "cell_type": "code",
   "execution_count": null,
   "metadata": {},
   "outputs": [],
   "source": []
  },
  {
   "cell_type": "markdown",
   "metadata": {},
   "source": [
    "#### 5) Salve a base, pois ela será utilizada no final deste módulo."
   ]
  },
  {
   "cell_type": "code",
   "execution_count": null,
   "metadata": {},
   "outputs": [],
   "source": []
  }
 ],
 "metadata": {
  "kernelspec": {
   "display_name": "Python 3 (ipykernel)",
   "language": "python",
   "name": "python3"
  },
  "language_info": {
   "codemirror_mode": {
    "name": "ipython",
    "version": 3
   },
   "file_extension": ".py",
   "mimetype": "text/x-python",
   "name": "python",
   "nbconvert_exporter": "python",
   "pygments_lexer": "ipython3",
   "version": "3.11.4"
  }
 },
 "nbformat": 4,
 "nbformat_minor": 4
}
